{
 "cells": [
  {
   "cell_type": "markdown",
   "id": "233c7e79-d5e0-4684-9a34-71589234ed10",
   "metadata": {},
   "source": [
    "### Setup\n",
    "\n",
    "If you want to write your own code and not follow this format, it is ok. Just make sure to use the same hyperparameters and models. If you see convergence sooner during the training, you may use fewer iterations."
   ]
  },
  {
   "cell_type": "code",
   "execution_count": 1,
   "id": "af462227-c6c5-4484-b6c9-527f3affafa8",
   "metadata": {},
   "outputs": [],
   "source": [
    "import argparse\n",
    "import numpy as np\n",
    "from tqdm import tqdm\n",
    "from pprint import pprint\n",
    "from torchvision import datasets, transforms\n",
    "import torch\n",
    "import torch.nn.functional as F\n",
    "from torch import autograd, nn, optim\n",
    "from torch.nn import functional as F\n",
    "\n",
    "# Latent dimensions\n",
    "z = 10\n",
    "# Training iterations\n",
    "iter_max = 200\n",
    "# Batch size\n",
    "batch_size = 100\n",
    "# For the optimizer\n",
    "learning_rate = 1e-3\n",
    "\n",
    "device = torch.device('cuda' if torch.cuda.is_available() else 'cpu')\n"
   ]
  },
  {
   "cell_type": "markdown",
   "id": "9b8f37be-71b9-42d5-a055-81760ca991a1",
   "metadata": {},
   "source": [
    "### Load dataset"
   ]
  },
  {
   "cell_type": "code",
   "execution_count": 2,
   "id": "9f0cf280-eaba-4685-92ec-53274e179329",
   "metadata": {},
   "outputs": [
    {
     "data": {
      "text/plain": [
       "<torch.utils.data.dataloader.DataLoader at 0x22794295480>"
      ]
     },
     "execution_count": 2,
     "metadata": {},
     "output_type": "execute_result"
    }
   ],
   "source": [
    "def get_mnist_data(device, batch_size):\n",
    "    preprocess = transforms.ToTensor()\n",
    "    train_loader = torch.utils.data.DataLoader(\n",
    "        datasets.MNIST('data', train=True, download=True, transform=preprocess),\n",
    "        batch_size=batch_size,\n",
    "        shuffle=True)\n",
    "    test_loader = torch.utils.data.DataLoader(\n",
    "        datasets.MNIST('data', train=False, download=True, transform=preprocess),\n",
    "        batch_size=batch_size,\n",
    "        shuffle=True)\n",
    "\n",
    "    # i committed some changes.\n",
    "    \n",
    "    # Create pre-processed training and test sets\n",
    "    #X_train = train_loader.dataset.train_data.to(device).reshape(-1, 784).float() / 255\n",
    "    #y_train = train_loader.dataset.train_labels.to(device)\n",
    "    #X_test = test_loader.dataset.test_data.to(device).reshape(-1, 784).float() / 255\n",
    "    #y_test = test_loader.dataset.test_labels.to(device)\n",
    "\n",
    "    #return train_loader, (X_test, y_test)\n",
    "    return train_loader, test_loader\n",
    "\n",
    "# i committed some changes.\n",
    "#train_loader, _ = get_mnist_data(device, batch_size)\n",
    "train_loader, test_loader = get_mnist_data(device, batch_size)\n",
    "\n",
    "train_loader"
   ]
  },
  {
   "cell_type": "markdown",
   "id": "e21d7c43",
   "metadata": {},
   "source": [
    "### Utility Functions\n",
    "- Complete the code for the function ```sample_gaussian```"
   ]
  },
  {
   "cell_type": "code",
   "execution_count": 3,
   "id": "0bea31b7",
   "metadata": {},
   "outputs": [],
   "source": [
    "def gaussian_parameters(h, dim=-1):\n",
    "    \"\"\"\n",
    "    Converts generic real-valued representations into mean and variance\n",
    "    parameters of a Gaussian distribution\n",
    "\n",
    "    Args:\n",
    "        h: tensor: (batch, ..., dim, ...): Arbitrary tensor\n",
    "        dim: int: (): Dimension along which to split the tensor for mean and\n",
    "            variance\n",
    "\n",
    "    Returns:\n",
    "        m: tensor: (batch, ..., dim / 2, ...): Mean\n",
    "        v: tensor: (batch, ..., dim / 2, ...): Variance\n",
    "    \"\"\"\n",
    "    m, h = torch.split(h, h.size(dim) // 2, dim=dim)\n",
    "    v = F.softplus(h) + 1e-8\n",
    "    return m, v\n",
    "\n",
    "\n",
    "def sample_gaussian(m, v):\n",
    "    \"\"\"\n",
    "    Element-wise application reparameterization trick to sample from Gaussian\n",
    "\n",
    "    Args:\n",
    "        m: tensor: (batch, ...): Mean\n",
    "        v: tensor: (batch, ...): Variance\n",
    "\n",
    "    Return:\n",
    "        z: tensor: (batch, ...): Samples\n",
    "    \"\"\"\n",
    "    ################################################################################\n",
    "    # TODO: complete the code here\n",
    "    # Task: Sample z\n",
    "\n",
    "    # ensure that m and v have the same shape:\n",
    "    assert m.size() == v.size(), \"Mean and variance must have the same shape.\"\n",
    "\n",
    "    # we sample from a standard normal distribution, in the same shape as \"m\":\n",
    "    epsilon = torch.randn_like(m)\n",
    "\n",
    "    # and now we compute z, in other words, we sample using reparameterization trick: \n",
    "    z = m + torch.sqrt(v) * epsilon\n",
    "\n",
    "    # End \n",
    "    ################################################################################\n",
    "    \n",
    "    return z\n",
    "\n",
    "\n",
    "bce = torch.nn.BCEWithLogitsLoss(reduction='none')\n",
    "\n",
    "\n",
    "def log_bernoulli_with_logits(x, logits):\n",
    "    \"\"\"\n",
    "    Computes the log probability of a Bernoulli given its logits\n",
    "\n",
    "    Args:\n",
    "        x: tensor: (batch, dim): Observation\n",
    "        logits: tensor: (batch, dim): Bernoulli logits\n",
    "\n",
    "    Return:\n",
    "        log_prob: tensor: (batch,): log probability of each sample\n",
    "    \"\"\"\n",
    "    log_prob = -bce(input=logits, target=x).sum(-1)\n",
    "    return log_prob\n",
    "\n",
    "\n",
    "def kl_normal(qm, qv, pm, pv):\n",
    "    \"\"\"\n",
    "    Computes the elem-wise KL divergence between two normal distributions KL(q || p) and\n",
    "    sum over the last dimension\n",
    "\n",
    "    Args:\n",
    "        qm: tensor: (batch, dim): q mean\n",
    "        qv: tensor: (batch, dim): q variance\n",
    "        pm: tensor: (batch, dim): p mean\n",
    "        pv: tensor: (batch, dim): p variance\n",
    "\n",
    "    Return:\n",
    "        kl: tensor: (batch,): kl between each sample\n",
    "    \"\"\"\n",
    "    element_wise = 0.5 * (torch.log(pv) - torch.log(qv) + qv / pv + (qm - pm).pow(2) / pv - 1)\n",
    "    kl = element_wise.sum(-1)\n",
    "    return kl\n",
    "\n",
    "def duplicate(x, rep):\n",
    "    \"\"\"\n",
    "    Duplicates x along dim=0\n",
    "\n",
    "    Args:\n",
    "        x: tensor: (batch, ...): Arbitrary tensor\n",
    "        rep: int: (): Number of replicates. Setting rep=1 returns orignal x\n",
    "\n",
    "    Returns:\n",
    "        _: tensor: (batch * rep, ...): Arbitrary replicated tensor\n",
    "    \"\"\"\n",
    "    return x.expand(rep, *x.shape).reshape(-1, *x.shape[1:])\n",
    "\n",
    "def log_normal(x, m, v):\n",
    "    \"\"\"\n",
    "    Computes the elem-wise log probability of a Gaussian and then sum over the\n",
    "    last dim. Basically we're assuming all dims are batch dims except for the\n",
    "    last dim.\n",
    "\n",
    "    Args:\n",
    "        x: tensor: (batch_1, batch_2, ..., batch_k, dim): Observation\n",
    "        m: tensor: (batch_1, batch_2, ..., batch_k, dim): Mean\n",
    "        v: tensor: (batch_1, batch_2, ..., batch_k, dim): Variance\n",
    "\n",
    "    Return:\n",
    "        log_prob: tensor: (batch_1, batch_2, ..., batch_k): log probability of\n",
    "            each sample. Note that the summation dimension is not kept\n",
    "    \"\"\"\n",
    "    log_std = torch.log(torch.sqrt(v))\n",
    "    log_probs = -((x - m) ** 2) / (2 * v) - log_std - np.log(np.sqrt(2 * np.pi))\n",
    "    log_prob = log_probs.sum(-1)\n",
    "\n",
    "    ################################################################################\n",
    "    # End of code modification\n",
    "    ################################################################################\n",
    "    return log_prob\n",
    "\n",
    "def log_mean_exp(x, dim):\n",
    "    \"\"\"\n",
    "    Compute the log(mean(exp(x), dim)) in a numerically stable manner\n",
    "\n",
    "    Args:\n",
    "        x: tensor: (...): Arbitrary tensor\n",
    "        dim: int: (): Dimension along which mean is computed\n",
    "\n",
    "    Return:\n",
    "        _: tensor: (...): log(mean(exp(x), dim))\n",
    "    \"\"\"\n",
    "    return log_sum_exp(x, dim) - np.log(x.size(dim))\n",
    "\n",
    "def log_sum_exp(x, dim=0):\n",
    "    \"\"\"\n",
    "    Compute the log(sum(exp(x), dim)) in a numerically stable manner\n",
    "\n",
    "    Args:\n",
    "        x: tensor: (...): Arbitrary tensor\n",
    "        dim: int: (): Dimension along which sum is computed\n",
    "\n",
    "    Return:\n",
    "        _: tensor: (...): log(sum(exp(x), dim))\n",
    "    \"\"\"\n",
    "    max_x = torch.max(x, dim)[0]\n",
    "    new_x = x - max_x.unsqueeze(dim).expand_as(x)\n",
    "    return max_x + (new_x.exp().sum(dim)).log()"
   ]
  },
  {
   "cell_type": "markdown",
   "id": "0a8745d4",
   "metadata": {},
   "source": [
    "### Base Models"
   ]
  },
  {
   "cell_type": "code",
   "execution_count": 4,
   "id": "cf16d9b7",
   "metadata": {},
   "outputs": [],
   "source": [
    "class Encoder(nn.Module):\n",
    "    def __init__(self, z_dim, y_dim=0):\n",
    "        super().__init__()\n",
    "        self.z_dim = z_dim\n",
    "        self.y_dim = y_dim\n",
    "        self.net = nn.Sequential(\n",
    "            nn.Linear(784 + y_dim, 300),\n",
    "            nn.ELU(),\n",
    "            nn.Linear(300, 300),\n",
    "            nn.ELU(),\n",
    "            nn.Linear(300, 2 * z_dim),\n",
    "        )\n",
    "\n",
    "    def encode(self, x, y=None):\n",
    "        xy = x if y is None else torch.cat((x, y), dim=1)\n",
    "        h = self.net(xy)\n",
    "        m, v = gaussian_parameters(h, dim=1)\n",
    "        return m, v\n",
    "\n",
    "class Decoder(nn.Module):\n",
    "    def __init__(self, z_dim, y_dim=0):\n",
    "        super().__init__()\n",
    "        self.z_dim = z_dim\n",
    "        self.y_dim = y_dim\n",
    "        self.net = nn.Sequential(\n",
    "            nn.Linear(z_dim + y_dim, 300),\n",
    "            nn.ELU(),\n",
    "            nn.Linear(300, 300),\n",
    "            nn.ELU(),\n",
    "            nn.Linear(300, 784)\n",
    "        )\n",
    "\n",
    "    def decode(self, z, y=None):\n",
    "        zy = z if y is None else torch.cat((z, y), dim=1)\n",
    "        return self.net(zy)\n"
   ]
  },
  {
   "cell_type": "markdown",
   "id": "3db41efa",
   "metadata": {},
   "source": [
    "### VAE Model\n",
    "\n",
    "- Complete the functions ```negative_elbo_bound``` and ```negative_iwae_bound```. Make sure to use functions provided in the ***Utility*** and ***Base Model*** sections for your benefit when completing the code."
   ]
  },
  {
   "cell_type": "code",
   "execution_count": 5,
   "id": "9aab515b",
   "metadata": {},
   "outputs": [],
   "source": [
    "class VAE(nn.Module):\n",
    "    def __init__(self, name='vae', z_dim=2):\n",
    "        super().__init__()\n",
    "        self.name = name\n",
    "        self.z_dim = z_dim\n",
    "\n",
    "        self.enc = Encoder(self.z_dim)\n",
    "        self.dec = Decoder(self.z_dim)\n",
    "\n",
    "        # Set prior as fixed parameter attached to Module\n",
    "        self.z_prior_m = torch.nn.Parameter(torch.zeros(1), requires_grad=False)\n",
    "        self.z_prior_v = torch.nn.Parameter(torch.ones(1), requires_grad=False)\n",
    "        self.z_prior = (self.z_prior_m, self.z_prior_v)\n",
    "\n",
    "    def negative_elbo_bound(self, x):\n",
    "        \"\"\"\n",
    "        Computes the Evidence Lower Bound, KL and, Reconstruction costs\n",
    "\n",
    "        Args:\n",
    "            x: tensor: (batch, dim): Observations\n",
    "\n",
    "        Returns:\n",
    "            nelbo: tensor: (): Negative evidence lower bound\n",
    "            kl: tensor: (): ELBO KL divergence to prior\n",
    "            rec: tensor: (): ELBO Reconstruction term\n",
    "        \"\"\"\n",
    "        ################################################################################\n",
    "        # TODO: complete the code here\n",
    "        # Task: Compute negative Evidence Lower Bound and its KL and Reconstruction term\n",
    "        # Note that nelbo = kl + rec\n",
    "        # Outputs should all be scalar\n",
    "\n",
    "        # this piece of code is mostly inspired by:\n",
    "        # https://colab.research.google.com/drive/1_yGmk8ahWhDs23U4mpplBFa-39fsEJoT?usp=sharing\n",
    "        # https://github.com/JohanYe/IWAE-pytorch/blob/059527de3da8920b0b7688dea516ce2adf76202b/model/PytorchIWAE.py#L72\n",
    "        # https://github.com/ermongroup/sliced_score_matching/blob/master/losses/vae.py\n",
    "\n",
    "        # for understanding elbo, I checked this too:\n",
    "        # https://towardsdatascience.com/variational-autoencoder-demystified-with-pytorch-implementation-3a06bee395ed\n",
    "        # https://yugeten.github.io/posts/2020/06/elbo/\n",
    "\n",
    "        # overall, i tried to adapt what i learnt and understood from this metric with the utility functions i'm supposed to use.\n",
    "        \n",
    "\n",
    "        # encode the input, x, and get mean and variance:\n",
    "        m_enc, v_enc = self.enc.encode(x)\n",
    "\n",
    "        # based on those values, sample z from gaussian distribution using reparameterization trick:\n",
    "        z = sample_gaussian(m_enc, v_enc)\n",
    "\n",
    "        \n",
    "        # reconstruction error section of the loss:\n",
    "\n",
    "        # get probability distribution of logits from giving z to the decoder:\n",
    "        x_hat = self.dec.decode(z)\n",
    "\n",
    "        # calculate the log. of probabilities between our input and the reconstructed input,\n",
    "        # or should I say, the average reconstruction error:\n",
    "        rec_values = log_bernoulli_with_logits(x, x_hat)\n",
    "        rec = -torch.mean(rec_values)\n",
    "        \n",
    "        \n",
    "        # kl section of the loss:\n",
    "\n",
    "        # creating a similar (shape-wise) tensors for the priors, p_m and p_v:\n",
    "        # (i mounted them onto cuda, since i was receiving errors if i didn't do it)\n",
    "        m_prior = torch.zeros(m_enc.shape).to(device)\n",
    "        v_prior = torch.ones(v_enc.shape).to(device)\n",
    "        \n",
    "        # calculate Kl values and then, take an average from them:\n",
    "        kl_values = kl_normal(m_enc, v_enc, m_prior, v_prior)\n",
    "        kl = torch.mean(kl_values)\n",
    "\n",
    "        \n",
    "        # compute the negative elbo:\n",
    "        nelbo = rec + kl\n",
    "\n",
    "        # End \n",
    "        ################################################################################\n",
    "        \n",
    "        return nelbo, kl, rec\n",
    "    \n",
    "    def negative_iwae_bound(self, x, iw):\n",
    "        \"\"\"\n",
    "        Computes the Importance Weighted Autoencoder Bound\n",
    "        Additionally, we also compute the ELBO KL and reconstruction terms\n",
    "\n",
    "        Args:\n",
    "            x: tensor: (batch, dim): Observations\n",
    "            iw: int: (): Number of importance weighted samples\n",
    "\n",
    "        Returns:\n",
    "            niwae: tensor: (): Negative IWAE bound\n",
    "            kl: tensor: (): ELBO KL divergence to prior\n",
    "            rec: tensor: (): ELBO Reconstruction term\n",
    "        \"\"\"\n",
    "        ################################################################################\n",
    "        # TODO: Modify/complete the code here\n",
    "        # Compute niwae (negative IWAE) with iw importance samples, and the KL\n",
    "        # and Rec decomposition of the Evidence Lower Bound\n",
    "        #\n",
    "        # Outputs should all be scalar\n",
    "        ################################################################################\n",
    "\n",
    "        # to understand how this metric actually works, i studied some sources alongside the paper:\n",
    "        # https://bochang.me/blog/posts/iwae/\n",
    "        # https://justin-tan.github.io/blog/2020/06/20/Intuitive-Importance-Weighted-ELBO-Bounds\n",
    "        # https://borea17.github.io/paper_summaries/iwae/\n",
    "        # https://github.com/JohanYe/CS294-158/tree/master/Hw3/Ex1\n",
    "\n",
    "        # overall, i tried to adapt what i learnt and understood from this metric with the utility functions i'm supposed to use.\n",
    "        \n",
    "\n",
    "        # encode the input, x, and get mean and variance:\n",
    "        m_enc, v_enc = self.enc.encode(x)\n",
    "\n",
    "        # we need to make a copy of the tensor values and add \"iw\" to it along the 0-axis for each:\n",
    "        iw_m_enc = duplicate(m_enc, iw)\n",
    "        iw_v_enc = duplicate(v_enc, iw)\n",
    "\n",
    "        # based on those values, sample z from gaussian distribution using reparameterization trick:\n",
    "        z = sample_gaussian(iw_m_enc, iw_v_enc)\n",
    "        \n",
    "\n",
    "        # # reconstruction error section of the loss (same as before, no need for extra commenting):\n",
    "\n",
    "        # again, we need to make a copy of the tensor values and add iw to it along the 0-axis:\n",
    "        iw_x = duplicate(x, iw)\n",
    "\n",
    "        # get probability distribution of logits from giving z to the decoder:\n",
    "        x_hat = self.dec.decode(z)\n",
    "\n",
    "        # calculate the log. of probabilities between our input and the reconstructed input,\n",
    "        # or should I say, the average reconstruction error:\n",
    "        rec_values = log_bernoulli_with_logits(iw_x, x_hat)\n",
    "        rec = -torch.mean(rec_values)\n",
    "        \n",
    "\n",
    "        # niwae:\n",
    "        # inspired by https://www.youtube.com/watch?app=desktop&v=U0T_jwVJcYI&ab_channel=ADASEGroup\n",
    "        # and also # https://borea17.github.io/paper_summaries/iwae/\n",
    "\n",
    "        iw_m_prior = torch.zeros(iw_m_enc.shape).to(device)\n",
    "        iw_v_prior = torch.ones(iw_v_enc.shape).to(device)\n",
    "        \n",
    "        # computing log probability for both prior and posterior \"iw\"s\n",
    "        log_prior = log_normal(z, iw_m_prior, iw_v_prior)\n",
    "        log_posterior = log_normal(z, iw_m_enc, iw_v_enc)\n",
    "\n",
    "        # we finally compute normalized log ratios and reshape to the shape of importance weights values:\n",
    "        log_likelihood = log_prior + rec_values - log_posterior\n",
    "        log_likelihood = log_likelihood.reshape(iw, x.shape[0])\n",
    "\n",
    "        # compute niwae values for each instance, and then take average from them:\n",
    "        niwae_values = log_mean_exp(log_likelihood, 0)\n",
    "        niwae = -torch.mean(niwae_values)\n",
    "        \n",
    "\n",
    "        # kl section of the loss (same as before, no need for extra commenting):\n",
    "\n",
    "        m_prior = torch.zeros(m_enc.shape).to(device)\n",
    "        v_prior = torch.ones(v_enc.shape).to(device)\n",
    "        \n",
    "        kl_values = kl_normal(m_enc, v_enc, m_prior, v_prior)\n",
    "        kl = torch.mean(kl_values)\n",
    "\n",
    "        ################################################################################\n",
    "        # End of code modification\n",
    "        ################################################################################\n",
    "        return niwae, kl, rec\n",
    "\n",
    "    \n",
    "    def loss(self, x):\n",
    "        nelbo, kl, rec = self.negative_elbo_bound(x)\n",
    "        loss = nelbo\n",
    "\n",
    "        summaries = dict((\n",
    "            ('train/loss', nelbo),\n",
    "            ('gen/elbo', -nelbo),\n",
    "            ('gen/kl_z', kl),\n",
    "            ('gen/rec', rec),\n",
    "        ))\n",
    "\n",
    "        return loss, summaries\n",
    "\n",
    "    def sample_sigmoid(self, batch):\n",
    "        z = self.sample_z(batch)\n",
    "        return self.compute_sigmoid_given(z)\n",
    "\n",
    "    def compute_sigmoid_given(self, z):\n",
    "        logits = self.dec.decode(z)\n",
    "        return torch.sigmoid(logits)\n",
    "\n",
    "    def sample_z(self, batch):\n",
    "        return sample_gaussian(\n",
    "            self.z_prior[0].expand(batch, self.z_dim),\n",
    "            self.z_prior[1].expand(batch, self.z_dim))\n",
    "\n",
    "    def sample_x(self, batch):\n",
    "        z = self.sample_z(batch)\n",
    "        return self.sample_x_given(z)\n",
    "\n",
    "    def sample_x_given(self, z):\n",
    "        return torch.bernoulli(self.compute_sigmoid_given(z))\n"
   ]
  },
  {
   "cell_type": "markdown",
   "id": "9063db87",
   "metadata": {},
   "source": [
    "### Run model\n",
    "\n",
    "- You will probably need to add some lines to this code. (Add test set, save statistics and plot, ...)\n",
    "\n",
    "Note that Negative ELBO on the test set should be around 100. "
   ]
  },
  {
   "cell_type": "code",
   "execution_count": 6,
   "id": "508bb63e-9cb8-4bd9-accc-8618e8edc966",
   "metadata": {
    "scrolled": true
   },
   "outputs": [
    {
     "name": "stderr",
     "output_type": "stream",
     "text": [
      "  0%|▍                                                                             | 1/200 [01:17<4:17:08, 77.53s/it]"
     ]
    },
    {
     "name": "stdout",
     "output_type": "stream",
     "text": [
      "\n",
      "Training Performance (results from negative_elbo_bound method):\n",
      "train/loss: 123.56217956542969, gen/elbo: 123.56217956542969, gen/kl_z: 14.637104034423828, gen/rec: 108.92507934570312\n",
      "\n",
      "Test Performance (results from negative_elbo_bound method):\n",
      "test/loss: 126.65199279785156, gen/elbo: 126.65199279785156, gen/kl_z: 14.750197410583496, gen/rec: 111.90179443359375\n",
      "\n",
      "Test Performance (results from negative_iwae_bound method):\n",
      "5-niwae: 124.77561950683594, 50-niwae: 123.63327026367188, 150-niwae: 123.3686294555664\n"
     ]
    },
    {
     "name": "stderr",
     "output_type": "stream",
     "text": [
      "  6%|████▏                                                                        | 11/200 [03:34<1:31:46, 29.14s/it]"
     ]
    },
    {
     "name": "stdout",
     "output_type": "stream",
     "text": [
      "\n",
      "Training Performance (results from negative_elbo_bound method):\n",
      "train/loss: 103.9534683227539, gen/elbo: 103.9534683227539, gen/kl_z: 18.92363929748535, gen/rec: 85.02983093261719\n",
      "\n",
      "Test Performance (results from negative_elbo_bound method):\n",
      "test/loss: 100.48080444335938, gen/elbo: 100.48080444335938, gen/kl_z: 18.870473861694336, gen/rec: 81.6103286743164\n",
      "\n",
      "Test Performance (results from negative_iwae_bound method):\n",
      "5-niwae: 98.89271545410156, 50-niwae: 97.74198913574219, 150-niwae: 97.4512939453125\n"
     ]
    },
    {
     "name": "stderr",
     "output_type": "stream",
     "text": [
      " 10%|████████                                                                     | 21/200 [05:47<1:23:26, 27.97s/it]"
     ]
    },
    {
     "name": "stdout",
     "output_type": "stream",
     "text": [
      "\n",
      "Training Performance (results from negative_elbo_bound method):\n",
      "train/loss: 100.239013671875, gen/elbo: 100.239013671875, gen/kl_z: 19.23423957824707, gen/rec: 81.00477600097656\n",
      "\n",
      "Test Performance (results from negative_elbo_bound method):\n",
      "test/loss: 96.41259765625, gen/elbo: 96.41259765625, gen/kl_z: 18.99384307861328, gen/rec: 77.41875457763672\n",
      "\n",
      "Test Performance (results from negative_iwae_bound method):\n",
      "5-niwae: 94.46527099609375, 50-niwae: 93.2516860961914, 150-niwae: 92.9349136352539\n"
     ]
    },
    {
     "name": "stderr",
     "output_type": "stream",
     "text": [
      " 16%|███████████▉                                                                 | 31/200 [08:01<1:18:56, 28.03s/it]"
     ]
    },
    {
     "name": "stdout",
     "output_type": "stream",
     "text": [
      "\n",
      "Training Performance (results from negative_elbo_bound method):\n",
      "train/loss: 98.69767761230469, gen/elbo: 98.69767761230469, gen/kl_z: 19.147607803344727, gen/rec: 79.5500717163086\n",
      "\n",
      "Test Performance (results from negative_elbo_bound method):\n",
      "test/loss: 101.10829162597656, gen/elbo: 101.10829162597656, gen/kl_z: 19.170578002929688, gen/rec: 81.93771362304688\n",
      "\n",
      "Test Performance (results from negative_iwae_bound method):\n",
      "5-niwae: 98.96487426757812, 50-niwae: 97.69860076904297, 150-niwae: 97.36251831054688\n"
     ]
    },
    {
     "name": "stderr",
     "output_type": "stream",
     "text": [
      " 20%|███████████████▊                                                             | 41/200 [10:16<1:14:21, 28.06s/it]"
     ]
    },
    {
     "name": "stdout",
     "output_type": "stream",
     "text": [
      "\n",
      "Training Performance (results from negative_elbo_bound method):\n",
      "train/loss: 100.18130493164062, gen/elbo: 100.18130493164062, gen/kl_z: 19.298160552978516, gen/rec: 80.88314056396484\n",
      "\n",
      "Test Performance (results from negative_elbo_bound method):\n",
      "test/loss: 98.17536163330078, gen/elbo: 98.17536163330078, gen/kl_z: 19.381940841674805, gen/rec: 78.79341888427734\n",
      "\n",
      "Test Performance (results from negative_iwae_bound method):\n",
      "5-niwae: 96.346435546875, 50-niwae: 95.06822204589844, 150-niwae: 94.73817443847656\n"
     ]
    },
    {
     "name": "stderr",
     "output_type": "stream",
     "text": [
      " 26%|███████████████████▋                                                         | 51/200 [12:31<1:10:57, 28.57s/it]"
     ]
    },
    {
     "name": "stdout",
     "output_type": "stream",
     "text": [
      "\n",
      "Training Performance (results from negative_elbo_bound method):\n",
      "train/loss: 100.8008041381836, gen/elbo: 100.8008041381836, gen/kl_z: 19.728759765625, gen/rec: 81.0720443725586\n",
      "\n",
      "Test Performance (results from negative_elbo_bound method):\n",
      "test/loss: 99.35982513427734, gen/elbo: 99.35982513427734, gen/kl_z: 19.72456169128418, gen/rec: 79.63526153564453\n",
      "\n",
      "Test Performance (results from negative_iwae_bound method):\n",
      "5-niwae: 97.41675567626953, 50-niwae: 96.02008819580078, 150-niwae: 95.68013763427734\n"
     ]
    },
    {
     "name": "stderr",
     "output_type": "stream",
     "text": [
      " 30%|███████████████████████▍                                                     | 61/200 [14:52<1:09:56, 30.19s/it]"
     ]
    },
    {
     "name": "stdout",
     "output_type": "stream",
     "text": [
      "\n",
      "Training Performance (results from negative_elbo_bound method):\n",
      "train/loss: 97.97151184082031, gen/elbo: 97.97151184082031, gen/kl_z: 19.731929779052734, gen/rec: 78.23958587646484\n",
      "\n",
      "Test Performance (results from negative_elbo_bound method):\n",
      "test/loss: 100.5307846069336, gen/elbo: 100.5307846069336, gen/kl_z: 20.0455379486084, gen/rec: 80.48524475097656\n",
      "\n",
      "Test Performance (results from negative_iwae_bound method):\n",
      "5-niwae: 98.42648315429688, 50-niwae: 96.99490356445312, 150-niwae: 96.62212371826172\n"
     ]
    },
    {
     "name": "stderr",
     "output_type": "stream",
     "text": [
      " 36%|███████████████████████████▎                                                 | 71/200 [17:09<1:02:28, 29.06s/it]"
     ]
    },
    {
     "name": "stdout",
     "output_type": "stream",
     "text": [
      "\n",
      "Training Performance (results from negative_elbo_bound method):\n",
      "train/loss: 97.754150390625, gen/elbo: 97.754150390625, gen/kl_z: 19.652626037597656, gen/rec: 78.10152435302734\n",
      "\n",
      "Test Performance (results from negative_elbo_bound method):\n",
      "test/loss: 102.05424499511719, gen/elbo: 102.05424499511719, gen/kl_z: 19.81263542175293, gen/rec: 82.24160766601562\n",
      "\n",
      "Test Performance (results from negative_iwae_bound method):\n",
      "5-niwae: 99.32096099853516, 50-niwae: 97.95652770996094, 150-niwae: 97.56922912597656\n"
     ]
    },
    {
     "name": "stderr",
     "output_type": "stream",
     "text": [
      " 40%|███████████████████████████████▉                                               | 81/200 [19:25<56:49, 28.65s/it]"
     ]
    },
    {
     "name": "stdout",
     "output_type": "stream",
     "text": [
      "\n",
      "Training Performance (results from negative_elbo_bound method):\n",
      "train/loss: 95.24554443359375, gen/elbo: 95.24554443359375, gen/kl_z: 19.810823440551758, gen/rec: 75.43472290039062\n",
      "\n",
      "Test Performance (results from negative_elbo_bound method):\n",
      "test/loss: 97.0279312133789, gen/elbo: 97.0279312133789, gen/kl_z: 19.687179565429688, gen/rec: 77.34075164794922\n",
      "\n",
      "Test Performance (results from negative_iwae_bound method):\n",
      "5-niwae: 95.13822174072266, 50-niwae: 93.744384765625, 150-niwae: 93.37130737304688\n"
     ]
    },
    {
     "name": "stderr",
     "output_type": "stream",
     "text": [
      " 46%|███████████████████████████████████▉                                           | 91/200 [21:41<52:08, 28.70s/it]"
     ]
    },
    {
     "name": "stdout",
     "output_type": "stream",
     "text": [
      "\n",
      "Training Performance (results from negative_elbo_bound method):\n",
      "train/loss: 97.31591796875, gen/elbo: 97.31591796875, gen/kl_z: 20.213943481445312, gen/rec: 77.10197448730469\n",
      "\n",
      "Test Performance (results from negative_elbo_bound method):\n",
      "test/loss: 102.18069458007812, gen/elbo: 102.18069458007812, gen/kl_z: 20.49481964111328, gen/rec: 81.68587493896484\n",
      "\n",
      "Test Performance (results from negative_iwae_bound method):\n",
      "5-niwae: 99.52906036376953, 50-niwae: 97.82978057861328, 150-niwae: 97.36849212646484\n"
     ]
    },
    {
     "name": "stderr",
     "output_type": "stream",
     "text": [
      " 50%|███████████████████████████████████████▍                                      | 101/200 [23:58<47:13, 28.62s/it]"
     ]
    },
    {
     "name": "stdout",
     "output_type": "stream",
     "text": [
      "\n",
      "Training Performance (results from negative_elbo_bound method):\n",
      "train/loss: 97.32821655273438, gen/elbo: 97.32821655273438, gen/kl_z: 19.621625900268555, gen/rec: 77.70658874511719\n",
      "\n",
      "Test Performance (results from negative_elbo_bound method):\n",
      "test/loss: 99.5487289428711, gen/elbo: 99.5487289428711, gen/kl_z: 20.034273147583008, gen/rec: 79.51445770263672\n",
      "\n",
      "Test Performance (results from negative_iwae_bound method):\n",
      "5-niwae: 97.8554458618164, 50-niwae: 96.5309066772461, 150-niwae: 96.20186614990234\n"
     ]
    },
    {
     "name": "stderr",
     "output_type": "stream",
     "text": [
      " 56%|███████████████████████████████████████████▎                                  | 111/200 [26:14<42:32, 28.68s/it]"
     ]
    },
    {
     "name": "stdout",
     "output_type": "stream",
     "text": [
      "\n",
      "Training Performance (results from negative_elbo_bound method):\n",
      "train/loss: 95.64608764648438, gen/elbo: 95.64608764648438, gen/kl_z: 19.482378005981445, gen/rec: 76.16371154785156\n",
      "\n",
      "Test Performance (results from negative_elbo_bound method):\n",
      "test/loss: 92.89871978759766, gen/elbo: 92.89871978759766, gen/kl_z: 19.42120361328125, gen/rec: 73.4775161743164\n",
      "\n",
      "Test Performance (results from negative_iwae_bound method):\n",
      "5-niwae: 90.83493041992188, 50-niwae: 89.59027862548828, 150-niwae: 89.24846649169922\n"
     ]
    },
    {
     "name": "stderr",
     "output_type": "stream",
     "text": [
      " 60%|███████████████████████████████████████████████▏                              | 121/200 [28:31<37:48, 28.71s/it]"
     ]
    },
    {
     "name": "stdout",
     "output_type": "stream",
     "text": [
      "\n",
      "Training Performance (results from negative_elbo_bound method):\n",
      "train/loss: 95.87963104248047, gen/elbo: 95.87963104248047, gen/kl_z: 19.89742088317871, gen/rec: 75.98220825195312\n",
      "\n",
      "Test Performance (results from negative_elbo_bound method):\n",
      "test/loss: 96.52804565429688, gen/elbo: 96.52804565429688, gen/kl_z: 19.396800994873047, gen/rec: 77.13124084472656\n",
      "\n",
      "Test Performance (results from negative_iwae_bound method):\n",
      "5-niwae: 94.01646423339844, 50-niwae: 92.6502456665039, 150-niwae: 92.3365478515625\n"
     ]
    },
    {
     "name": "stderr",
     "output_type": "stream",
     "text": [
      " 66%|███████████████████████████████████████████████████                           | 131/200 [30:48<32:58, 28.68s/it]"
     ]
    },
    {
     "name": "stdout",
     "output_type": "stream",
     "text": [
      "\n",
      "Training Performance (results from negative_elbo_bound method):\n",
      "train/loss: 97.8639907836914, gen/elbo: 97.8639907836914, gen/kl_z: 20.348939895629883, gen/rec: 77.51505279541016\n",
      "\n",
      "Test Performance (results from negative_elbo_bound method):\n",
      "test/loss: 102.67488098144531, gen/elbo: 102.67488098144531, gen/kl_z: 20.4571475982666, gen/rec: 82.21773529052734\n",
      "\n",
      "Test Performance (results from negative_iwae_bound method):\n",
      "5-niwae: 99.93010711669922, 50-niwae: 98.55997467041016, 150-niwae: 98.17213439941406\n"
     ]
    },
    {
     "name": "stderr",
     "output_type": "stream",
     "text": [
      " 70%|██████████████████████████████████████████████████████▉                       | 141/200 [33:05<28:11, 28.67s/it]"
     ]
    },
    {
     "name": "stdout",
     "output_type": "stream",
     "text": [
      "\n",
      "Training Performance (results from negative_elbo_bound method):\n",
      "train/loss: 98.07992553710938, gen/elbo: 98.07992553710938, gen/kl_z: 20.23175811767578, gen/rec: 77.8481674194336\n",
      "\n",
      "Test Performance (results from negative_elbo_bound method):\n",
      "test/loss: 98.37821960449219, gen/elbo: 98.37821960449219, gen/kl_z: 19.96977996826172, gen/rec: 78.40843963623047\n",
      "\n",
      "Test Performance (results from negative_iwae_bound method):\n",
      "5-niwae: 95.16815948486328, 50-niwae: 93.65772247314453, 150-niwae: 93.25859069824219\n"
     ]
    },
    {
     "name": "stderr",
     "output_type": "stream",
     "text": [
      " 76%|██████████████████████████████████████████████████████████▉                   | 151/200 [35:21<23:23, 28.65s/it]"
     ]
    },
    {
     "name": "stdout",
     "output_type": "stream",
     "text": [
      "\n",
      "Training Performance (results from negative_elbo_bound method):\n",
      "train/loss: 96.25214385986328, gen/elbo: 96.25214385986328, gen/kl_z: 19.77659797668457, gen/rec: 76.47554779052734\n",
      "\n",
      "Test Performance (results from negative_elbo_bound method):\n",
      "test/loss: 99.37322998046875, gen/elbo: 99.37322998046875, gen/kl_z: 20.156766891479492, gen/rec: 79.21646118164062\n",
      "\n",
      "Test Performance (results from negative_iwae_bound method):\n",
      "5-niwae: 96.9058837890625, 50-niwae: 95.4100341796875, 150-niwae: 94.99839782714844\n"
     ]
    },
    {
     "name": "stderr",
     "output_type": "stream",
     "text": [
      " 80%|██████████████████████████████████████████████████████████████▊               | 161/200 [37:37<18:39, 28.70s/it]"
     ]
    },
    {
     "name": "stdout",
     "output_type": "stream",
     "text": [
      "\n",
      "Training Performance (results from negative_elbo_bound method):\n",
      "train/loss: 95.869873046875, gen/elbo: 95.869873046875, gen/kl_z: 19.878559112548828, gen/rec: 75.9913101196289\n",
      "\n",
      "Test Performance (results from negative_elbo_bound method):\n",
      "test/loss: 96.39886474609375, gen/elbo: 96.39886474609375, gen/kl_z: 20.047046661376953, gen/rec: 76.35182189941406\n",
      "\n",
      "Test Performance (results from negative_iwae_bound method):\n",
      "5-niwae: 94.86759185791016, 50-niwae: 93.47164916992188, 150-niwae: 93.1008071899414\n"
     ]
    },
    {
     "name": "stderr",
     "output_type": "stream",
     "text": [
      " 86%|██████████████████████████████████████████████████████████████████▋           | 171/200 [39:53<13:49, 28.61s/it]"
     ]
    },
    {
     "name": "stdout",
     "output_type": "stream",
     "text": [
      "\n",
      "Training Performance (results from negative_elbo_bound method):\n",
      "train/loss: 92.31718444824219, gen/elbo: 92.31718444824219, gen/kl_z: 19.66219711303711, gen/rec: 72.65499114990234\n",
      "\n",
      "Test Performance (results from negative_elbo_bound method):\n",
      "test/loss: 99.0030517578125, gen/elbo: 99.0030517578125, gen/kl_z: 20.04197883605957, gen/rec: 78.96107482910156\n",
      "\n",
      "Test Performance (results from negative_iwae_bound method):\n",
      "5-niwae: 97.06758880615234, 50-niwae: 95.6862564086914, 150-niwae: 95.33399200439453\n"
     ]
    },
    {
     "name": "stderr",
     "output_type": "stream",
     "text": [
      " 90%|██████████████████████████████████████████████████████████████████████▌       | 181/200 [42:10<09:05, 28.70s/it]"
     ]
    },
    {
     "name": "stdout",
     "output_type": "stream",
     "text": [
      "\n",
      "Training Performance (results from negative_elbo_bound method):\n",
      "train/loss: 95.97478485107422, gen/elbo: 95.97478485107422, gen/kl_z: 20.108314514160156, gen/rec: 75.86647033691406\n",
      "\n",
      "Test Performance (results from negative_elbo_bound method):\n",
      "test/loss: 91.52693939208984, gen/elbo: 91.52693939208984, gen/kl_z: 19.721132278442383, gen/rec: 71.8058090209961\n",
      "\n",
      "Test Performance (results from negative_iwae_bound method):\n",
      "5-niwae: 89.99497985839844, 50-niwae: 88.75482177734375, 150-niwae: 88.44186401367188\n"
     ]
    },
    {
     "name": "stderr",
     "output_type": "stream",
     "text": [
      " 96%|██████████████████████████████████████████████████████████████████████████▍   | 191/200 [44:26<04:17, 28.65s/it]"
     ]
    },
    {
     "name": "stdout",
     "output_type": "stream",
     "text": [
      "\n",
      "Training Performance (results from negative_elbo_bound method):\n",
      "train/loss: 93.67686462402344, gen/elbo: 93.67686462402344, gen/kl_z: 19.27349090576172, gen/rec: 74.40337371826172\n",
      "\n",
      "Test Performance (results from negative_elbo_bound method):\n",
      "test/loss: 99.04584503173828, gen/elbo: 99.04584503173828, gen/kl_z: 19.928693771362305, gen/rec: 79.11714935302734\n",
      "\n",
      "Test Performance (results from negative_iwae_bound method):\n",
      "5-niwae: 96.73585510253906, 50-niwae: 95.2060317993164, 150-niwae: 94.80376434326172\n"
     ]
    },
    {
     "name": "stderr",
     "output_type": "stream",
     "text": [
      "100%|██████████████████████████████████████████████████████████████████████████████| 200/200 [45:25<00:00, 13.63s/it]\n"
     ]
    }
   ],
   "source": [
    "\n",
    "vae = VAE(z_dim=z).to(device)\n",
    "optimizer = optim.Adam(vae.parameters(), lr=learning_rate)\n",
    "\n",
    "m = [5, 50, 150]\n",
    "\n",
    "nelbo_train = []\n",
    "nelbo_test = []\n",
    "niwae5_test = []\n",
    "niwae50_test = []\n",
    "niwae150_test = []\n",
    "\n",
    "for i in tqdm(range(iter_max)):\n",
    "    for batch_idx, (xu, yu) in enumerate(train_loader):\n",
    "        \n",
    "        optimizer.zero_grad()\n",
    "\n",
    "        xu = torch.bernoulli(xu.to(device).reshape(xu.size(0), -1))\n",
    "        yu = yu.new(np.eye(10)[yu]).to(device).float()\n",
    "        loss, summaries = vae.loss(xu)\n",
    "\n",
    "        loss.backward()\n",
    "        optimizer.step()\n",
    "        \n",
    "    #print(summaries['train/loss'])\n",
    "    \n",
    "    ################################################################################\n",
    "    # TODO: complete the code here\n",
    "    # report the loss terms across time for train and validation datasets\n",
    "    #\n",
    "    # You can choose to only perform validation once in every 10 (Or any other number \n",
    "    # depending on the speed of the algorithm on your machine) iterations and display  \n",
    "    # the training and validation statistics on those iterataions.\n",
    "\n",
    "    if i % 10 == 0:\n",
    "        with torch.no_grad():\n",
    "            for batch_idx, (x, y) in enumerate(test_loader):\n",
    "                x = torch.bernoulli(x.to(device).reshape(x.size(0), -1))\n",
    "                y = y.new(np.eye(10)[y]).to(device).float()\n",
    "        \n",
    "                _, summaries_test = vae.loss(x)\n",
    "\n",
    "                iw_results_test = {iw: {\"niwae\": 0, \"kl\": 0, \"rec_error\": 0} for iw in m}\n",
    "                iterations = 50\n",
    "                \n",
    "                for iw in m:\n",
    "                    i = 0\n",
    "                    for _ in range(iterations):\n",
    "                        niwae, kl, rec_error = vae.negative_iwae_bound(x, iw)\n",
    "                        \n",
    "                        i += 1\n",
    "                        \n",
    "                        iw_results_test[iw][\"niwae\"] += niwae\n",
    "                        iw_results_test[iw][\"kl\"] += kl\n",
    "                        iw_results_test[iw][\"rec_error\"] += rec_error\n",
    "                        \n",
    "                    iw_results_test[iw][\"niwae\"] /= i\n",
    "                    iw_results_test[iw][\"kl\"] /= i\n",
    "                    iw_results_test[iw][\"rec_error\"] /= i\n",
    "            \n",
    "        print(f\"\\nTraining Performance (results from negative_elbo_bound method):\")\n",
    "        print(f\"train/loss: {summaries['train/loss'].item()}, gen/elbo: {-summaries['gen/elbo'].item()}, gen/kl_z: {summaries['gen/kl_z'].item()}, gen/rec: {summaries['gen/rec'].item()}\")\n",
    "\n",
    "        print(f\"\\nTest Performance (results from negative_elbo_bound method):\")\n",
    "        print(f\"test/loss: {summaries_test['train/loss'].item()}, gen/elbo: {-summaries_test['gen/elbo'].item()}, gen/kl_z: {summaries_test['gen/kl_z'].item()}, gen/rec: {summaries_test['gen/rec'].item()}\")\n",
    "\n",
    "        print(f\"\\nTest Performance (results from negative_iwae_bound method):\")\n",
    "        iws = list(iw_results_test.keys())\n",
    "        niwaes = [-iw_results_test[iw][\"niwae\"] for iw in iws]\n",
    "        print(f\"{iws[0]}-niwae: {-niwaes[0]}, {iws[1]}-niwae: {-niwaes[1]}, {iws[2]}-niwae: {-niwaes[2]}\")\n",
    "\n",
    "        nelbo_train.append(-summaries['gen/elbo'].item())\n",
    "        nelbo_test.append(-summaries_test['gen/elbo'].item())\n",
    "        niwae5_test.append(-niwaes[0].item())\n",
    "        niwae50_test.append(-niwaes[1].item())\n",
    "        niwae150_test.append(-niwaes[2].item())\n",
    "        \n",
    "    # End\n",
    "    ################################################################################"
   ]
  },
  {
   "cell_type": "code",
   "execution_count": 7,
   "id": "843137ef-3954-46e0-a208-c6ad79d1feb3",
   "metadata": {},
   "outputs": [
    {
     "data": {
      "image/png": "[encoded data removed]",
      "text/plain": [
       "<Figure size 640x480 with 1 Axes>"
      ]
     },
     "metadata": {},
     "output_type": "display_data"
    }
   ],
   "source": [
    "import matplotlib.pyplot as plt\n",
    "\n",
    "plt.plot(nelbo_train, label=\"Training NELBO Loss\", linewidth=3)\n",
    "plt.plot(nelbo_test, label=\"Test NELBO Loss\", linewidth=3)\n",
    "plt.title(\"Model NELBO Loss\", fontsize=20)\n",
    "plt.xlabel(\"#Epochs % 10 == 0\", fontsize=15)\n",
    "plt.ylabel(\"NELBO Loss\", fontsize=15)\n",
    "plt.xticks(range(int(iter_max / 10)), range(1, int(iter_max / 10) + 1), fontsize=12)\n",
    "plt.yticks(fontsize=12)\n",
    "plt.legend(loc=\"best\", fontsize=15)\n",
    "plt.show()"
   ]
  },
  {
   "cell_type": "code",
   "execution_count": 8,
   "id": "c21350ed-2a64-4b2c-9d03-d24e58280cd8",
   "metadata": {},
   "outputs": [
    {
     "data": {
      "image/png": "[encoded data removed]",
      "text/plain": [
       "<Figure size 640x480 with 1 Axes>"
      ]
     },
     "metadata": {},
     "output_type": "display_data"
    }
   ],
   "source": [
    "plt.plot(niwae5_test, label=\"Test 5-NIWAE Loss\", linewidth=3)\n",
    "plt.plot(niwae50_test, label=\"Test 50-NIWAE Loss\", linewidth=3)\n",
    "plt.plot(niwae150_test, label=\"Test 150-NIWAE Loss\", linewidth=3)\n",
    "plt.title(\"Model NIWAE Loss\", fontsize=20)\n",
    "plt.xlabel(\"#Epochs % 10 == 0\", fontsize=15)\n",
    "plt.ylabel(\"NIWAE Loss\", fontsize=15)\n",
    "plt.xticks(range(int(iter_max / 10)), range(1, int(iter_max / 10) + 1), fontsize=12)\n",
    "plt.yticks(fontsize=12)\n",
    "plt.legend(loc=\"best\", fontsize=15)\n",
    "plt.show()"
   ]
  },
  {
   "cell_type": "code",
   "execution_count": null,
   "id": "0104ce3a-9f5a-453d-ad74-2ae071317dc1",
   "metadata": {},
   "outputs": [],
   "source": []
  }
 ],
 "metadata": {
  "kernelspec": {
   "display_name": "Python 3 (ipykernel)",
   "language": "python",
   "name": "python3"
  },
  "language_info": {
   "codemirror_mode": {
    "name": "ipython",
    "version": 3
   },
   "file_extension": ".py",
   "mimetype": "text/x-python",
   "name": "python",
   "nbconvert_exporter": "python",
   "pygments_lexer": "ipython3",
   "version": "3.10.11"
  }
 },
 "nbformat": 4,
 "nbformat_minor": 5
}
